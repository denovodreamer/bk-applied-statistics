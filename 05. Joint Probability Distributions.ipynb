{
 "cells": [
  {
   "cell_type": "markdown",
   "id": "ec0522fa-db18-4066-a0e2-bdf1b0e6c4d0",
   "metadata": {},
   "source": [
    " "
   ]
  },
  {
   "cell_type": "markdown",
   "id": "d3eb3db4-dfcd-4f4f-8eaa-e51f972ff3f9",
   "metadata": {},
   "source": [
    " "
   ]
  },
  {
   "cell_type": "markdown",
   "id": "17c00296-3c70-4668-b3dc-ddcd4b577357",
   "metadata": {},
   "source": [
    " "
   ]
  },
  {
   "cell_type": "markdown",
   "id": "817247c6-ac7a-4fa0-917a-3678047ad026",
   "metadata": {},
   "source": [
    " "
   ]
  },
  {
   "cell_type": "markdown",
   "id": "4d672a0e-960a-4bea-b0b1-06a56dade16b",
   "metadata": {},
   "source": [
    " "
   ]
  },
  {
   "cell_type": "code",
   "execution_count": 4,
   "id": "774c4c70-df92-48de-b863-3580c5c6ae45",
   "metadata": {},
   "outputs": [
    {
     "name": "stdout",
     "output_type": "stream",
     "text": [
      "(0, 0) 1.0\n",
      "(0, 1) 0.04\n",
      "(0, 2) 0.0016\n",
      "(0, 3) 6.400000000000001e-05\n",
      "(1, 0) 0.01\n",
      "(1, 1) 0.0004\n",
      "(1, 2) 1.6000000000000003e-05\n",
      "(2, 0) 0.0001\n",
      "(2, 1) 4.000000000000001e-06\n",
      "(3, 0) 1.0000000000000002e-06\n"
     ]
    }
   ],
   "source": [
    "def f(x, y):\n",
    "    return (0.01**x)*(0.04**y)\n",
    "\n",
    "for x in range(4):\n",
    "    for y in range(4):\n",
    "        if x + y > 3:\n",
    "            continue\n",
    "        print((x, y), f(x, y))"
   ]
  },
  {
   "cell_type": "markdown",
   "id": "dd793097-6938-4386-bfbe-4ba76c4f847b",
   "metadata": {},
   "source": [
    " "
   ]
  },
  {
   "cell_type": "markdown",
   "id": "7bebffb2-2d03-4816-84e8-8064082d82bd",
   "metadata": {},
   "source": [
    " "
   ]
  },
  {
   "cell_type": "markdown",
   "id": "8fd4f025-139e-46f3-a146-829ad73b1119",
   "metadata": {},
   "source": [
    " "
   ]
  },
  {
   "cell_type": "markdown",
   "id": "8966ea32-1c91-43d4-ab9a-4841e95944b6",
   "metadata": {},
   "source": [
    " "
   ]
  },
  {
   "cell_type": "code",
   "execution_count": 8,
   "id": "5ea8b4b5-d1af-47b0-a20d-06007a6cbbfe",
   "metadata": {},
   "outputs": [
    {
     "data": {
      "text/plain": [
       "0.027074999999999995"
      ]
     },
     "execution_count": 8,
     "metadata": {},
     "output_type": "execute_result"
    }
   ],
   "source": [
    "3*0.01*0.95*0.95"
   ]
  },
  {
   "cell_type": "markdown",
   "id": "2d772cbe-bc79-4fe4-b5f0-290f052df6d2",
   "metadata": {},
   "source": [
    " "
   ]
  },
  {
   "cell_type": "markdown",
   "id": "492a565b-363a-4605-a8e0-c38e445ece99",
   "metadata": {},
   "source": [
    " "
   ]
  },
  {
   "cell_type": "markdown",
   "id": "bd683330-589d-4c09-bd2f-f47a40e27ef7",
   "metadata": {},
   "source": [
    " "
   ]
  },
  {
   "cell_type": "markdown",
   "id": "cfce53c0-f2d9-41ad-8826-28f838d1794e",
   "metadata": {},
   "source": [
    " "
   ]
  },
  {
   "cell_type": "markdown",
   "id": "5f0fafca-98a1-42b6-b382-257aa1a14455",
   "metadata": {},
   "source": [
    " "
   ]
  },
  {
   "cell_type": "markdown",
   "id": "88b40db9-3bbe-44e8-b440-1b74a60f4302",
   "metadata": {},
   "source": [
    " "
   ]
  },
  {
   "cell_type": "code",
   "execution_count": 2,
   "id": "7de415dc-fb30-40a5-9903-254a9e6ca8d8",
   "metadata": {},
   "outputs": [],
   "source": [
    "import numpy as np\n",
    "\n",
    "x = np.array([1, 1, 2, 4])\n",
    "y = np.array([3, 4, 5, 6])\n",
    "f = np.array([1/8, 1/4, 1/2, 1/8])"
   ]
  },
  {
   "cell_type": "markdown",
   "id": "2d3c5855-44d0-4381-a27d-1ec2f47afd4a",
   "metadata": {},
   "source": [
    " "
   ]
  },
  {
   "cell_type": "markdown",
   "id": "25a0679a-c9ad-4017-8187-97185d275bf8",
   "metadata": {},
   "source": [
    " "
   ]
  },
  {
   "cell_type": "code",
   "execution_count": 3,
   "id": "4405861d-1c0b-40d8-8c64-69ddae9cce6e",
   "metadata": {},
   "outputs": [
    {
     "data": {
      "text/plain": [
       "1.0"
      ]
     },
     "execution_count": 3,
     "metadata": {},
     "output_type": "execute_result"
    }
   ],
   "source": [
    "f.sum()"
   ]
  },
  {
   "cell_type": "markdown",
   "id": "ac07ef21-c761-4779-9608-d19c170daf1a",
   "metadata": {},
   "source": [
    " "
   ]
  },
  {
   "cell_type": "markdown",
   "id": "7172d148-948d-49dc-89ac-40d665a013e9",
   "metadata": {},
   "source": [
    " "
   ]
  },
  {
   "cell_type": "code",
   "execution_count": 9,
   "id": "e8592df2-face-4b5a-856c-5e8992442208",
   "metadata": {},
   "outputs": [
    {
     "name": "stdout",
     "output_type": "stream",
     "text": [
      "Marginal Probability Distribution P(X):\n",
      "P(X=1) = 0.3750\n",
      "P(X=2) = 0.5000\n",
      "P(X=4) = 0.1250\n",
      "\n",
      "Marginal Probability Distribution P(Y):\n",
      "P(Y=3) = 0.1250\n",
      "P(Y=4) = 0.2500\n",
      "P(Y=5) = 0.5000\n",
      "P(Y=6) = 0.1250\n",
      "\n",
      "Expected Value of X (E[X]):\n",
      "1.8750\n",
      "Expected Value of Y (E[Y]):\n",
      "4.6250\n"
     ]
    }
   ],
   "source": [
    "unique_x = np.unique(x)\n",
    "unique_y = np.unique(y)\n",
    "\n",
    "P_X = np.array([np.sum(f[x == ux]) for ux in unique_x])\n",
    "P_Y = np.array([np.sum(f[y == uy]) for uy in unique_y])\n",
    "\n",
    "# Compute the expected values E[X] and E[Y]\n",
    "E_X = np.sum(unique_x * P_X)\n",
    "E_Y = np.sum(unique_y * P_Y)\n",
    "\n",
    "# Output the results\n",
    "print(\"Marginal Probability Distribution P(X):\")\n",
    "for ux, px in zip(unique_x, P_X):\n",
    "    print(f\"P(X={ux}) = {px:.4f}\")\n",
    "\n",
    "print(\"\\nMarginal Probability Distribution P(Y):\")\n",
    "for uy, py in zip(unique_y, P_Y):\n",
    "    print(f\"P(Y={uy}) = {py:.4f}\")\n",
    "\n",
    "print(\"\\nExpected Value of X (E[X]):\")\n",
    "print(f\"{E_X:.4f}\")\n",
    "\n",
    "print(\"Expected Value of Y (E[Y]):\")\n",
    "print(f\"{E_Y:.4f}\")"
   ]
  },
  {
   "cell_type": "markdown",
   "id": "fb10c0ed-c216-45e2-ab60-3bb32a1d2cb7",
   "metadata": {},
   "source": [
    " "
   ]
  },
  {
   "cell_type": "markdown",
   "id": "3f0200c7-d37f-450f-b6bf-6ccd59e69430",
   "metadata": {},
   "source": [
    " "
   ]
  },
  {
   "cell_type": "markdown",
   "id": "39c2f23a-e1b8-4f11-a6a3-d7cea896cdc9",
   "metadata": {},
   "source": [
    " "
   ]
  },
  {
   "cell_type": "markdown",
   "id": "fb5d3416-a453-4a28-9f08-0682dfd2c287",
   "metadata": {},
   "source": [
    " "
   ]
  },
  {
   "cell_type": "code",
   "execution_count": 12,
   "id": "af7242a3-715d-4167-ba4b-6df88df3acf8",
   "metadata": {},
   "outputs": [
    {
     "data": {
      "text/plain": [
       "array([[1.   , 2.   , 4.   ],\n",
       "       [0.375, 0.5  , 0.125]])"
      ]
     },
     "execution_count": 12,
     "metadata": {},
     "output_type": "execute_result"
    }
   ],
   "source": [
    "f_X = np.array([unique_x, P_X])\n",
    "\n",
    "f_X"
   ]
  },
  {
   "cell_type": "markdown",
   "id": "f6cc741b-538d-4cc2-97ba-07472ada1cdd",
   "metadata": {},
   "source": [
    " "
   ]
  },
  {
   "cell_type": "markdown",
   "id": "3885587b-b987-4f2d-ab82-cd8b077534ad",
   "metadata": {},
   "source": [
    " "
   ]
  },
  {
   "cell_type": "markdown",
   "id": "2db7fd55-0696-4b30-b9fb-47488ca19e74",
   "metadata": {},
   "source": [
    " "
   ]
  },
  {
   "cell_type": "code",
   "execution_count": 20,
   "id": "6da6c33a-9ce3-40f3-aac7-f376ae98fd64",
   "metadata": {},
   "outputs": [
    {
     "data": {
      "text/plain": [
       "4.9375"
      ]
     },
     "execution_count": 20,
     "metadata": {},
     "output_type": "execute_result"
    }
   ],
   "source": [
    "mu_X = E_X\n",
    "mu_Y = E_Y\n",
    "\n",
    "x_p = x - mu_X\n",
    "y_p = y - mu_Y\n",
    "\n",
    "np.matmul(x_p, y_p)"
   ]
  },
  {
   "cell_type": "markdown",
   "id": "d36d3738-d78a-4c61-acdc-704296fe26b1",
   "metadata": {},
   "source": [
    " "
   ]
  },
  {
   "cell_type": "markdown",
   "id": "630fb203-4474-4bdc-a734-2bef5487cd3f",
   "metadata": {},
   "source": [
    " "
   ]
  },
  {
   "cell_type": "markdown",
   "id": "bf73b50c-ce67-40dd-a6e5-e6b58f5773f2",
   "metadata": {},
   "source": [
    " "
   ]
  },
  {
   "cell_type": "markdown",
   "id": "16677326-0d38-4d57-9eba-9ac5ba8b9ee0",
   "metadata": {},
   "source": [
    " "
   ]
  },
  {
   "cell_type": "markdown",
   "id": "2e201d4e-4484-4c94-a955-3ab463bac880",
   "metadata": {},
   "source": [
    " "
   ]
  },
  {
   "cell_type": "code",
   "execution_count": 18,
   "id": "2fa774c7-af34-48e3-b9d4-add40e07a721",
   "metadata": {},
   "outputs": [
    {
     "name": "stdout",
     "output_type": "stream",
     "text": [
      "Marginal Probability Distribution P(X):\n",
      "P(X=1) = 0.3750\n",
      "P(X=2) = 0.5000\n",
      "P(X=4) = 0.1250\n",
      "\n",
      "Marginal Probability Distribution P(Y):\n",
      "P(Y=3) = 0.1250\n",
      "P(Y=4) = 0.2500\n",
      "P(Y=5) = 0.5000\n",
      "P(Y=6) = 0.1250\n",
      "\n",
      "Expected Value of X (E[X]):\n",
      "1.8750\n",
      "Expected Value of Y (E[Y]):\n",
      "4.6250\n",
      "\n",
      "Expected Value of XY (E[XY]):\n",
      "9.3750\n",
      "\n",
      "Covariance of X and Y (Cov[X, Y]):\n",
      "0.7031\n"
     ]
    }
   ],
   "source": [
    "import numpy as np\n",
    "\n",
    "# Given data\n",
    "x = np.array([1, 1, 2, 4])\n",
    "y = np.array([3, 4, 5, 6])\n",
    "f = np.array([1/8, 1/4, 1/2, 1/8])\n",
    "\n",
    "# Compute the marginal probabilities P(X) and P(Y)\n",
    "unique_x = np.unique(x)\n",
    "unique_y = np.unique(y)\n",
    "\n",
    "P_X = np.array([np.sum(f[x == ux]) for ux in unique_x])\n",
    "P_Y = np.array([np.sum(f[y == uy]) for uy in unique_y])\n",
    "\n",
    "# Compute the expected values E[X] and E[Y]\n",
    "E_X = np.sum(unique_x * P_X)\n",
    "E_Y = np.sum(unique_y * P_Y)\n",
    "\n",
    "# Compute the expected value of XY\n",
    "E_XY = np.sum(x * y * f)\n",
    "\n",
    "# Compute the covariance\n",
    "Cov_XY = E_XY - E_X * E_Y\n",
    "\n",
    "# Output the results\n",
    "print(\"Marginal Probability Distribution P(X):\")\n",
    "for ux, px in zip(unique_x, P_X):\n",
    "    print(f\"P(X={ux}) = {px:.4f}\")\n",
    "\n",
    "print(\"\\nMarginal Probability Distribution P(Y):\")\n",
    "for uy, py in zip(unique_y, P_Y):\n",
    "    print(f\"P(Y={uy}) = {py:.4f}\")\n",
    "\n",
    "print(\"\\nExpected Value of X (E[X]):\")\n",
    "print(f\"{E_X:.4f}\")\n",
    "\n",
    "print(\"Expected Value of Y (E[Y]):\")\n",
    "print(f\"{E_Y:.4f}\")\n",
    "\n",
    "print(\"\\nExpected Value of XY (E[XY]):\")\n",
    "print(f\"{E_XY:.4f}\")\n",
    "\n",
    "print(\"\\nCovariance of X and Y (Cov[X, Y]):\")\n",
    "print(f\"{Cov_XY:.4f}\")\n"
   ]
  },
  {
   "cell_type": "markdown",
   "id": "3cd48354-c6dc-4b01-9d4f-82fded5625cb",
   "metadata": {},
   "source": [
    " "
   ]
  },
  {
   "cell_type": "markdown",
   "id": "f06ffae2-7c50-4cbb-81ce-5571cb3c6239",
   "metadata": {},
   "source": [
    " "
   ]
  },
  {
   "cell_type": "markdown",
   "id": "3c019d45-aaf3-4dd3-ae3e-133687d9fa30",
   "metadata": {},
   "source": [
    " "
   ]
  },
  {
   "cell_type": "code",
   "execution_count": 19,
   "id": "5de3d475-3115-4627-a113-7dc767215020",
   "metadata": {},
   "outputs": [
    {
     "data": {
      "text/plain": [
       "2.1666666666666665"
      ]
     },
     "execution_count": 19,
     "metadata": {},
     "output_type": "execute_result"
    }
   ],
   "source": [
    "13/6"
   ]
  },
  {
   "cell_type": "markdown",
   "id": "cc58b677-f087-43f3-8fd4-eb11b8c0de9a",
   "metadata": {},
   "source": [
    " "
   ]
  },
  {
   "cell_type": "markdown",
   "id": "a83022a0-3896-4a6d-8d69-d3ba84c67e93",
   "metadata": {},
   "source": [
    " "
   ]
  },
  {
   "cell_type": "markdown",
   "id": "10ba50af-7aa6-496e-9e35-a110a5429909",
   "metadata": {},
   "source": [
    " "
   ]
  },
  {
   "cell_type": "markdown",
   "id": "607c39a2-dd33-497b-912b-c73bd029d48e",
   "metadata": {},
   "source": [
    " "
   ]
  },
  {
   "cell_type": "markdown",
   "id": "87458f55-9492-48f2-a85d-dab6dca74b56",
   "metadata": {},
   "source": [
    " "
   ]
  },
  {
   "cell_type": "markdown",
   "id": "bf5aca34-3529-4714-99d6-425122fd56f4",
   "metadata": {},
   "source": [
    " "
   ]
  },
  {
   "cell_type": "markdown",
   "id": "9e1c4c6e-d86f-46ab-a13e-c227eaf176cd",
   "metadata": {},
   "source": [
    " "
   ]
  },
  {
   "cell_type": "markdown",
   "id": "de3911d0-d184-4910-bdeb-8b8a1bcdc15d",
   "metadata": {},
   "source": [
    " "
   ]
  },
  {
   "cell_type": "markdown",
   "id": "ea221bc4-b80e-419d-a197-98610d40b821",
   "metadata": {},
   "source": [
    " "
   ]
  },
  {
   "cell_type": "markdown",
   "id": "7f416ef3-55ce-4d54-b80d-20c579036d91",
   "metadata": {},
   "source": [
    " "
   ]
  },
  {
   "cell_type": "markdown",
   "id": "d0b06a22-99e5-4be8-859f-e9e1065892bd",
   "metadata": {},
   "source": [
    " "
   ]
  },
  {
   "cell_type": "markdown",
   "id": "8684f401-426e-4b83-a890-f8bc2a33aed2",
   "metadata": {},
   "source": [
    " "
   ]
  },
  {
   "cell_type": "markdown",
   "id": "42633d6d-df5e-4823-bc38-23fdeab9e044",
   "metadata": {},
   "source": [
    " "
   ]
  },
  {
   "cell_type": "markdown",
   "id": "fd4829df-de3c-4fd6-b180-b01d6a577122",
   "metadata": {},
   "source": [
    " "
   ]
  },
  {
   "cell_type": "markdown",
   "id": "cc2fa432-2e47-477c-b0c3-05cf7b494630",
   "metadata": {},
   "source": [
    " "
   ]
  },
  {
   "cell_type": "markdown",
   "id": "094ddb13-2c3c-48fe-aa72-769634a9672c",
   "metadata": {},
   "source": [
    " "
   ]
  },
  {
   "cell_type": "markdown",
   "id": "a33bec60-1333-444d-afb2-9a9efee585d8",
   "metadata": {},
   "source": [
    " "
   ]
  },
  {
   "cell_type": "markdown",
   "id": "47be6e6b-274b-47ba-b60e-e25b8bc6412d",
   "metadata": {},
   "source": [
    " "
   ]
  },
  {
   "cell_type": "markdown",
   "id": "5cf3aa0e-c5aa-45fa-b46a-b26b45adb3d9",
   "metadata": {},
   "source": [
    " "
   ]
  },
  {
   "cell_type": "markdown",
   "id": "ba60f12e-4966-42bc-8934-4099e639ff03",
   "metadata": {},
   "source": [
    " "
   ]
  },
  {
   "cell_type": "markdown",
   "id": "bccf533d-7d4d-4a4a-bac1-13171b36f8e8",
   "metadata": {},
   "source": [
    " "
   ]
  },
  {
   "cell_type": "markdown",
   "id": "9bbc8f10-ba64-46a8-9557-a332b63fecb3",
   "metadata": {},
   "source": [
    " "
   ]
  },
  {
   "cell_type": "markdown",
   "id": "72b6689f-5b75-4e5b-8454-50dae69a5c0a",
   "metadata": {},
   "source": [
    " "
   ]
  }
 ],
 "metadata": {
  "kernelspec": {
   "display_name": "projects",
   "language": "python",
   "name": "projects"
  },
  "language_info": {
   "codemirror_mode": {
    "name": "ipython",
    "version": 3
   },
   "file_extension": ".py",
   "mimetype": "text/x-python",
   "name": "python",
   "nbconvert_exporter": "python",
   "pygments_lexer": "ipython3",
   "version": "3.11.7"
  }
 },
 "nbformat": 4,
 "nbformat_minor": 5
}
