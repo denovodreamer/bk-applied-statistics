{
 "cells": [
  {
   "cell_type": "markdown",
   "id": "5aa3552c-b021-4845-acc0-ed09dbe11639",
   "metadata": {},
   "source": [
    " "
   ]
  },
  {
   "cell_type": "markdown",
   "id": "10b7a398-4ccd-4e5b-9828-e4a533831bfa",
   "metadata": {},
   "source": [
    " "
   ]
  },
  {
   "cell_type": "markdown",
   "id": "9bd1fb2e-f4a0-4af4-8ffe-d16a91a43195",
   "metadata": {},
   "source": [
    " "
   ]
  },
  {
   "cell_type": "markdown",
   "id": "52539027-24b0-47bb-ba82-e82ffc357c7b",
   "metadata": {},
   "source": [
    " "
   ]
  },
  {
   "cell_type": "markdown",
   "id": "284be986-df54-4679-9d0f-9d6e32b53a40",
   "metadata": {},
   "source": [
    " "
   ]
  },
  {
   "cell_type": "code",
   "execution_count": 5,
   "id": "06ad0249-92d0-440e-9524-ea7786579172",
   "metadata": {},
   "outputs": [],
   "source": [
    "import scipy.stats as stats"
   ]
  },
  {
   "cell_type": "markdown",
   "id": "c8129f43-74e1-4f56-a423-1cde2201bfc8",
   "metadata": {},
   "source": [
    " "
   ]
  },
  {
   "cell_type": "markdown",
   "id": "cbaa1710-9387-43c7-95fb-81851cb29308",
   "metadata": {},
   "source": [
    " "
   ]
  },
  {
   "cell_type": "markdown",
   "id": "fd52aa74-8930-4fe3-a85f-86b4265e35a5",
   "metadata": {},
   "source": [
    " "
   ]
  },
  {
   "cell_type": "markdown",
   "id": "354d6b55-ad47-48bb-bc48-1e9926d9eb48",
   "metadata": {},
   "source": [
    " "
   ]
  },
  {
   "cell_type": "markdown",
   "id": "3de42883-b650-4414-bec9-a79fe5a3a290",
   "metadata": {},
   "source": [
    " "
   ]
  },
  {
   "cell_type": "markdown",
   "id": "5918debf-e8c6-41df-9a7d-b32ba7ffa90a",
   "metadata": {},
   "source": [
    " "
   ]
  },
  {
   "cell_type": "markdown",
   "id": "ae64a2dc-169e-45a2-b8bc-812838555f46",
   "metadata": {},
   "source": [
    "# Binomial"
   ]
  },
  {
   "cell_type": "markdown",
   "id": "0cff46c8-a78d-45c8-9e9c-02cd8c393e74",
   "metadata": {},
   "source": [
    " "
   ]
  },
  {
   "cell_type": "markdown",
   "id": "af84afd9-51bf-4916-9f69-c8dc91aa7dd8",
   "metadata": {},
   "source": [
    " "
   ]
  },
  {
   "cell_type": "code",
   "execution_count": 8,
   "id": "b0baa659-73e4-48c1-8de8-3c7d7892bed3",
   "metadata": {},
   "outputs": [],
   "source": [
    "n = 20\n",
    "p = 0.2\n",
    "\n",
    "binom_dist = stats.binom(n, p)"
   ]
  },
  {
   "cell_type": "markdown",
   "id": "15944adf-9338-4767-9a72-efd4a5a87ac2",
   "metadata": {},
   "source": [
    " "
   ]
  },
  {
   "cell_type": "markdown",
   "id": "184582b1-cd00-4c88-9f1c-41732a95bfe6",
   "metadata": {},
   "source": [
    " "
   ]
  },
  {
   "cell_type": "markdown",
   "id": "923a0201-72c5-4a54-9e55-fe7b2af0037c",
   "metadata": {},
   "source": [
    " "
   ]
  },
  {
   "cell_type": "markdown",
   "id": "e78ed0de-a740-4daa-b8b6-269c2c459e9c",
   "metadata": {},
   "source": [
    " "
   ]
  },
  {
   "cell_type": "code",
   "execution_count": 9,
   "id": "a48b4581-35cb-4e7a-a8f3-ab9e5a51b0f9",
   "metadata": {},
   "outputs": [
    {
     "name": "stdout",
     "output_type": "stream",
     "text": [
      "Probability of 3 successes: 0.20536414300809488\n"
     ]
    }
   ],
   "source": [
    "k = 3\n",
    "prob_k_successes = binom_dist.pmf(k)\n",
    "\n",
    "print(f\"Probability of {k} successes: {prob_k_successes}\")"
   ]
  },
  {
   "cell_type": "markdown",
   "id": "6a07f3d0-6274-4963-9e9f-58fb7a139983",
   "metadata": {},
   "source": [
    " "
   ]
  },
  {
   "cell_type": "markdown",
   "id": "42c33110-a10f-44fd-9b1a-c6cf95a6e25c",
   "metadata": {},
   "source": [
    " "
   ]
  },
  {
   "cell_type": "code",
   "execution_count": 11,
   "id": "3dae9c5e-8bb2-47db-8a29-c5728a15ec24",
   "metadata": {},
   "outputs": [
    {
     "data": {
      "text/plain": [
       "0.41144886195656927"
      ]
     },
     "execution_count": 11,
     "metadata": {},
     "output_type": "execute_result"
    }
   ],
   "source": [
    "prob = 0\n",
    "for k in range(0, 3+1):\n",
    "    prob += binom_dist.pmf(k)\n",
    "prob"
   ]
  },
  {
   "cell_type": "markdown",
   "id": "4f0d6b72-38ee-4982-b62c-550497e1e5e8",
   "metadata": {},
   "source": [
    " "
   ]
  },
  {
   "cell_type": "markdown",
   "id": "1f2e06ad-5f4d-4ed5-847c-31e4c85233c9",
   "metadata": {},
   "source": [
    " "
   ]
  },
  {
   "cell_type": "code",
   "execution_count": 10,
   "id": "40d29fbd-56bc-4491-b3dd-b74c2df9833f",
   "metadata": {},
   "outputs": [
    {
     "data": {
      "text/plain": [
       "0.41144886195656893"
      ]
     },
     "execution_count": 10,
     "metadata": {},
     "output_type": "execute_result"
    }
   ],
   "source": [
    "k = 3\n",
    "\n",
    "binom_dist.cdf(k)"
   ]
  },
  {
   "cell_type": "markdown",
   "id": "b7cd06cc-d704-4796-a75b-05662ae2b8d8",
   "metadata": {},
   "source": [
    " "
   ]
  },
  {
   "cell_type": "markdown",
   "id": "32a52bbd-a74f-4398-b9b2-e01e4273b762",
   "metadata": {},
   "source": [
    " "
   ]
  },
  {
   "cell_type": "markdown",
   "id": "0b315ce5-193e-422e-a665-276a19a88dca",
   "metadata": {},
   "source": [
    " "
   ]
  },
  {
   "cell_type": "code",
   "execution_count": 4,
   "id": "f11ff4d9-7b6a-4dc9-8a2c-c560a30430d5",
   "metadata": {},
   "outputs": [
    {
     "name": "stdout",
     "output_type": "stream",
     "text": [
      "[5 7 5 6 5 5 4 3 5 4 4 4 4 5 4 6 5 8 4 3 5 7 4 4 3 9 3 7 6 3 4 5 5 3 3 7 5\n",
      " 5 4 9 7 4 7 5 5 5 8 2 4 7 5 6 4 6 4 4 5 5 4 4 7 5 4 5 6 7 4 4 6 3 7 6 5 6\n",
      " 7 7 7 4 7 5 4 6 5 7 7 4 5 7 5 3 3 7 6 7 2 8 4 5 6 4 5 6 5 6 7 7 5 4 3 5 2\n",
      " 3 3 4 3 4 9 6 7 4 6 5 4 7 4 4 5 6 6 5 4 4 6 5 5 5 3 7 6 3 6 3 2 8 2 4 6 5\n",
      " 3 6 3 5 7 4 3 4 7 7 4 7 3 5 4 5 3 6 3 8 7 4 6 5 4 3 5 5 4 7 7 3 5 6 6 7 7\n",
      " 4 3 4 5 6 4 5 1 4 7 2 6 2 6 5 5 6 5 4 6 6 6 5 5 6 7 3 4 4 6 3 4 8 4 3 3 5\n",
      " 4 3 4 4 4 4 6 3 8 6 4 6 7 7 4 4 4 7 3 5 8 7 6 6 3 9 4 5 6 6 4 5 6 4 5 5 6\n",
      " 5 3 6 6 1 8 6 5 7 5 4 5 4 3 4 5 5 5 6 4 4 5 5 7 5 6 6 4 5 5 7 5 5 7 7 6 7\n",
      " 7 5 8 3 5 5 3 4 7 7 2 4 3 6 5 5 4 6 5 4 6 7 6 3 6 5 5 3 5 4 7 4 6 4 4 6 3\n",
      " 6 5 5 6 7 9 5 6 5 5 6 6 6 5 6 8 3 5 5 4 5 8 5 3 6 6 5 6 4 4 6 4 6 8 5 5 7\n",
      " 6 6 4 4 5 7 4 5 9 5 8 4 5 7 6 8 5 6 7 4 3 6 5 4 6 6 5 2 3 6 6 6 3 7 7 7 6\n",
      " 6 2 8 8 5 5 7 7 5 2 3 3 6 6 6 6 6 6 5 3 6 5 3 7 6 7 2 5 5 3 4 5 6 5 6 5 4\n",
      " 4 8 6 2 6 8 4 6 5 4 7 4 4 3 7 5 9 6 6 7 5 5 5 8 7 7 2 3 6 3 4 5 7 6 4 2 3\n",
      " 3 7 6 8 5 4 4 3 4 4 7 3 3 6 8 8 5 4 4 4 4 4 5 4 2 5 7 4 3 5 5 3 6 5 5 6 6\n",
      " 5 6 6 6 3 7 5 3 5 4 4 3 6 4 7 4 5 4 5 5 5 4 4 3 3 2 5 7 7 6 7 7 6 7 4 4 7\n",
      " 3 6 6 6 6 6 7 3 2 6 5 6 5 6 4 7 3 5 3 5 6 5 2 4 6 7 6 4 6 5 4 1 5 3 5 6 5\n",
      " 8 4 4 7 7 5 2 5 2 5 8 5 6 4 6 6 6 1 6 6 6 6 7 5 5 6 3 3 4 3 2 6 4 3 7 6 5\n",
      " 3 6 0 6 7 6 5 5 5 5 6 5 5 4 2 3 7 2 4 3 7 8 6 6 7 4 4 2 4 6 8 3 4 6 8 3 5\n",
      " 4 3 5 8 6 5 5 4 4 4 5 4 7 7 4 5 4 4 2 4 6 6 6 3 4 9 5 2 4 4 3 6 3 4 5 6 4\n",
      " 5 6 5 6 6 7 6 4 4 7 7 6 5 6 4 6 7 5 6 6 6 3 2 5 4 4 3 5 5 3 3 7 6 7 5 6 5\n",
      " 5 5 2 5 6 5 4 5 7 6 5 3 6 5 6 6 6 4 7 5 4 5 8 5 4 5 7 5 4 4 7 4 6 4 9 4 5\n",
      " 7 4 6 4 7 5 4 5 5 6 8 3 6 7 3 6 7 3 5 1 5 3 3 6 2 6 8 7 3 6 7 4 5 7 3 3 4\n",
      " 5 5 2 6 3 5 6 8 5 9 5 8 3 1 5 5 4 4 6 5 5 3 5 2 7 6 4 4 4 5 5 5 6 6 4 4 5\n",
      " 7 4 5 3 2 7 6 5 5 5 3 5 4 4 7 3 6 5 4 5 7 3 5 4 5 6 5 7 5 7 4 7 6 8 5 5 9\n",
      " 5 5 2 6 5 5 5 6 3 4 3 6 7 6 7 9 4 7 7 3 3 3 5 4 5 7 7 6 7 3 4 6 5 5 4 5 5\n",
      " 2 4 7 7 7 5 5 7 4 4 3 5 4 5 5 4 4 5 3 6 6 7 5 6 6 6 6 8 8 4 7 6 5 6 7 3 3\n",
      " 3 6 4 7 6 6 7 4 6 4 6 6 4 7 3 7 6 7 6 5 8 8 5 3 6 8 4 5 8 5 4 6 6 6 3 7 3\n",
      " 4]\n"
     ]
    }
   ],
   "source": [
    "# Generate random samples\n",
    "random_samples = binom_dist.rvs(size=1000)  # Generate 1000 random samples\n",
    "print(random_samples)"
   ]
  },
  {
   "cell_type": "markdown",
   "id": "cb42e9cb-a233-4de3-bb71-9fc36f6632e9",
   "metadata": {},
   "source": [
    " "
   ]
  },
  {
   "cell_type": "markdown",
   "id": "844888e5-1eda-4684-bc40-dfed7f729ba7",
   "metadata": {},
   "source": [
    " "
   ]
  },
  {
   "cell_type": "markdown",
   "id": "59545c13-e372-43a0-a868-14595d0dc32a",
   "metadata": {},
   "source": [
    " "
   ]
  },
  {
   "cell_type": "markdown",
   "id": "6936f923-4821-4e6e-8a0d-e47e0441a805",
   "metadata": {},
   "source": [
    " "
   ]
  },
  {
   "cell_type": "code",
   "execution_count": 14,
   "id": "236a617f-d46f-418b-91a3-8d67dd10651b",
   "metadata": {},
   "outputs": [
    {
     "data": {
      "image/png": "[encoded data removed]",
      "text/plain": [
       "<Figure size 640x480 with 1 Axes>"
      ]
     },
     "metadata": {},
     "output_type": "display_data"
    }
   ],
   "source": [
    "import numpy as np\n",
    "import matplotlib.pyplot as plt\n",
    "from scipy.stats import binom\n",
    "\n",
    "# Parameters for the binomial distribution\n",
    "n = 10  # Number of trials\n",
    "p = 0.5  # Probability of success\n",
    "\n",
    "# Calculate the PMF values\n",
    "x = np.arange(0, n+1)\n",
    "pmf_values = binom.pmf(x, n, p)\n",
    "\n",
    "# Plot the PMF\n",
    "plt.stem(x, pmf_values, basefmt=\" \")\n",
    "plt.xlabel('Number of successes')\n",
    "plt.ylabel('Probability')\n",
    "plt.title('Binomial Distribution PMF (n=10, p=0.5)')\n",
    "plt.grid;"
   ]
  },
  {
   "cell_type": "markdown",
   "id": "b6364d5c-2939-4b05-8bf4-7130b178c70f",
   "metadata": {},
   "source": [
    " "
   ]
  },
  {
   "cell_type": "markdown",
   "id": "6ec8ebf7-0dbc-4b15-a7af-1d4b6957e294",
   "metadata": {},
   "source": [
    " "
   ]
  },
  {
   "cell_type": "markdown",
   "id": "78025613-32c2-480c-827b-8feec006b9ee",
   "metadata": {},
   "source": [
    " "
   ]
  },
  {
   "cell_type": "markdown",
   "id": "674e0b1d-c600-4ac6-ab53-adc8e5b443e2",
   "metadata": {},
   "source": [
    " "
   ]
  },
  {
   "cell_type": "markdown",
   "id": "e9dcfb24-1c66-4f7c-82ad-0c362f602216",
   "metadata": {},
   "source": [
    " "
   ]
  },
  {
   "cell_type": "markdown",
   "id": "ef90f08f-97b1-47fb-8d3b-6c58fe0219d1",
   "metadata": {},
   "source": [
    " "
   ]
  },
  {
   "cell_type": "code",
   "execution_count": 11,
   "id": "a284fb07-a230-426f-858e-b8adfdd11586",
   "metadata": {},
   "outputs": [
    {
     "data": {
      "image/png": "[encoded data removed]",
      "text/plain": [
       "<Figure size 1400x1000 with 4 Axes>"
      ]
     },
     "metadata": {},
     "output_type": "display_data"
    }
   ],
   "source": [
    "def plot_negative_binomial(r, p, ax):\n",
    "    \"\"\"\n",
    "    Plot the negative binomial distribution for given r and p.\n",
    "    \n",
    "    Parameters:\n",
    "    r : int\n",
    "        Number of successes.\n",
    "    p : float\n",
    "        Probability of success.\n",
    "    ax : matplotlib.axes.Axes\n",
    "        Axis object to plot the distribution on.\n",
    "    \"\"\"\n",
    "    # Define the range of x values\n",
    "    x = np.arange(0, 50)\n",
    "    \n",
    "    # Calculate the probability mass function\n",
    "    pmf = nbinom.pmf(x, r, p)\n",
    "    \n",
    "    # Plot the distribution\n",
    "    ax.plot(x, pmf, 'o', label=f'r={r}, p={p}')\n",
    "    ax.vlines(x, 0, pmf, colors='b', lw=2, alpha=0.5)\n",
    "    ax.set_title(f'Negative Binomial Distribution (r={r}, p={p})')\n",
    "    ax.set_xlabel('Number of Failures')\n",
    "    ax.set_ylabel('Probability')\n",
    "    ax.legend()\n",
    "\n",
    "# Create subplots for different parameter combinations\n",
    "fig, axes = plt.subplots(2, 2, figsize=(14, 10))\n",
    "\n",
    "# Define parameter combinations\n",
    "params = [(5, 0.5), (10, 0.5), (5, 0.2), (10, 0.2)]\n",
    "\n",
    "# Plot the distributions\n",
    "for ax, (r, p) in zip(axes.flatten(), params):\n",
    "    plot_negative_binomial(r, p, ax)\n",
    "\n",
    "plt.tight_layout()\n",
    "plt.show()\n"
   ]
  },
  {
   "cell_type": "markdown",
   "id": "3f155600-5380-41da-8bd2-cf9e7940b4e2",
   "metadata": {},
   "source": [
    " "
   ]
  },
  {
   "cell_type": "markdown",
   "id": "6c3b233c-ab3b-4bf0-b655-4c3742a628ac",
   "metadata": {},
   "source": [
    " "
   ]
  },
  {
   "cell_type": "markdown",
   "id": "ffcaa99d-d393-4c83-a84a-6a2cd4dd76a3",
   "metadata": {},
   "source": [
    " "
   ]
  },
  {
   "cell_type": "markdown",
   "id": "b8ad80c4-fd80-4383-9b67-a8c721031cbd",
   "metadata": {},
   "source": [
    " "
   ]
  },
  {
   "cell_type": "markdown",
   "id": "a796f036-5904-4f6a-ac2a-2dc0c607632f",
   "metadata": {},
   "source": [
    " "
   ]
  },
  {
   "cell_type": "markdown",
   "id": "4328dd0e-d36d-4efe-bcfb-49049788b53e",
   "metadata": {},
   "source": [
    " "
   ]
  },
  {
   "cell_type": "markdown",
   "id": "0fd4d623-7141-4b8a-b32d-619d7280a162",
   "metadata": {},
   "source": [
    " "
   ]
  },
  {
   "cell_type": "markdown",
   "id": "fe3e53f8-dc38-4313-a8de-3bfa56e25a70",
   "metadata": {},
   "source": [
    " "
   ]
  },
  {
   "cell_type": "markdown",
   "id": "eefc648a-8266-4aa6-8f4c-6d0e9b61db6c",
   "metadata": {},
   "source": [
    " "
   ]
  },
  {
   "cell_type": "markdown",
   "id": "9fcb6a7f-c0c0-4ca2-9a26-7bde60f6ae41",
   "metadata": {},
   "source": [
    " "
   ]
  },
  {
   "cell_type": "markdown",
   "id": "512af79d-851f-4ca7-a66c-2b00de284188",
   "metadata": {},
   "source": [
    " "
   ]
  },
  {
   "cell_type": "markdown",
   "id": "7e25b3e4-5c7f-43d0-a8ce-100e7aa0bf67",
   "metadata": {},
   "source": [
    "# Geometric and Negative Binomial"
   ]
  },
  {
   "cell_type": "markdown",
   "id": "af7d9c76-bb72-4d67-b4c6-6825db10c90c",
   "metadata": {},
   "source": [
    " "
   ]
  },
  {
   "cell_type": "markdown",
   "id": "2a597f3f-0487-4627-b1b3-0edc030473b5",
   "metadata": {},
   "source": [
    " "
   ]
  },
  {
   "cell_type": "code",
   "execution_count": 13,
   "id": "d8c8d927-c69e-43a6-9fc7-9ebd9ef06998",
   "metadata": {},
   "outputs": [
    {
     "data": {
      "text/plain": [
       "<matplotlib.collections.LineCollection at 0x1361b0390>"
      ]
     },
     "execution_count": 13,
     "metadata": {},
     "output_type": "execute_result"
    },
    {
     "data": {
      "image/png": "[encoded data removed]",
      "text/plain": [
       "<Figure size 640x480 with 1 Axes>"
      ]
     },
     "metadata": {},
     "output_type": "display_data"
    }
   ],
   "source": [
    "import numpy as np\n",
    "from scipy.stats import geom\n",
    "import matplotlib.pyplot as plt\n",
    "\n",
    "fig, ax = plt.subplots(1, 1)\n",
    "\n",
    "\n",
    "p = 0.5\n",
    "\n",
    "x = np.arange(geom.ppf(0.01, p),\n",
    "              geom.ppf(0.99, p))\n",
    "\n",
    "ax.plot(x, geom.pmf(x, p), 'bo', ms=8, label='geom pmf')\n",
    "\n",
    "ax.vlines(x, 0, geom.pmf(x, p), colors='b', lw=1, alpha=0.5)"
   ]
  },
  {
   "cell_type": "markdown",
   "id": "af5f0255-7868-4bb1-b303-29dbd5a69351",
   "metadata": {},
   "source": [
    " "
   ]
  },
  {
   "cell_type": "markdown",
   "id": "324138ca-fdff-44a4-b145-cafb1cae6607",
   "metadata": {},
   "source": [
    " "
   ]
  },
  {
   "cell_type": "markdown",
   "id": "041a18ab-ad2c-4140-bbbb-4fccb5848e85",
   "metadata": {},
   "source": [
    " "
   ]
  },
  {
   "cell_type": "markdown",
   "id": "58779cff-619d-4789-ba82-751ff5a950ab",
   "metadata": {},
   "source": [
    " "
   ]
  },
  {
   "cell_type": "markdown",
   "id": "de45c670-464d-48fb-9168-7a43903a1f53",
   "metadata": {},
   "source": [
    " "
   ]
  },
  {
   "cell_type": "markdown",
   "id": "e0703e71-8107-4098-b80c-44f658c58d79",
   "metadata": {},
   "source": [
    "**3.99**"
   ]
  },
  {
   "cell_type": "code",
   "execution_count": 17,
   "id": "a98b16f0-b098-49d2-8fff-d8f2737051cb",
   "metadata": {},
   "outputs": [
    {
     "data": {
      "text/plain": [
       "0.5"
      ]
     },
     "execution_count": 17,
     "metadata": {},
     "output_type": "execute_result"
    }
   ],
   "source": [
    "p = 0.5\n",
    "geom.pmf(1, p)"
   ]
  },
  {
   "cell_type": "markdown",
   "id": "dd92babd-2a3b-4c3d-ae9f-4ca7730b3ab8",
   "metadata": {},
   "source": [
    " "
   ]
  },
  {
   "cell_type": "markdown",
   "id": "ba33be1c-b309-4368-aa27-13de3e40ba03",
   "metadata": {},
   "source": [
    " "
   ]
  },
  {
   "cell_type": "code",
   "execution_count": 18,
   "id": "bd6955fa-fb80-4a44-a46c-2a7d1f9f7aea",
   "metadata": {},
   "outputs": [
    {
     "data": {
      "text/plain": [
       "0.75"
      ]
     },
     "execution_count": 18,
     "metadata": {},
     "output_type": "execute_result"
    }
   ],
   "source": [
    "geom.cdf(2, p)"
   ]
  },
  {
   "cell_type": "markdown",
   "id": "ec157e33-3ef3-49e8-bd79-21890ade9276",
   "metadata": {},
   "source": [
    " "
   ]
  },
  {
   "cell_type": "markdown",
   "id": "42b01472-b95d-4601-93f5-8d0d27d8e250",
   "metadata": {},
   "source": [
    " "
   ]
  },
  {
   "cell_type": "markdown",
   "id": "75a087c8-d72e-448b-b813-ff4c947a684b",
   "metadata": {},
   "source": [
    " "
   ]
  },
  {
   "cell_type": "markdown",
   "id": "131aedc4-4c2b-4934-9d33-ff9731a20125",
   "metadata": {},
   "source": [
    "**3.101**"
   ]
  },
  {
   "cell_type": "code",
   "execution_count": 19,
   "id": "6a57db18-7fd6-4d63-a6bc-d0dfd04ef8b8",
   "metadata": {},
   "outputs": [],
   "source": [
    "p = 0.2"
   ]
  },
  {
   "cell_type": "markdown",
   "id": "4f3b0d2a-b08c-49f7-bc9c-7a8164184ae3",
   "metadata": {},
   "source": [
    " "
   ]
  },
  {
   "cell_type": "markdown",
   "id": "86639106-c59c-455a-bcec-3bb070ab89b2",
   "metadata": {},
   "source": [
    " "
   ]
  },
  {
   "cell_type": "code",
   "execution_count": 21,
   "id": "c440e1d5-3a81-46be-9418-c1744b4d9205",
   "metadata": {},
   "outputs": [
    {
     "data": {
      "text/plain": [
       "5.0"
      ]
     },
     "execution_count": 21,
     "metadata": {},
     "output_type": "execute_result"
    }
   ],
   "source": [
    "mu = 1/p\n",
    "\n",
    "mu"
   ]
  },
  {
   "cell_type": "markdown",
   "id": "058c4ebb-ff60-4207-93ac-e66920b4eed8",
   "metadata": {},
   "source": [
    " "
   ]
  },
  {
   "cell_type": "markdown",
   "id": "c2025355-5c6f-4189-817f-10844598ca64",
   "metadata": {},
   "source": [
    " "
   ]
  },
  {
   "cell_type": "markdown",
   "id": "bd7d50d9-1c51-4d2c-9483-31fbf758cc49",
   "metadata": {},
   "source": [
    " "
   ]
  },
  {
   "cell_type": "markdown",
   "id": "4556ea95-2fac-41d6-b699-74ca3535bde1",
   "metadata": {},
   "source": [
    "**3.102**"
   ]
  },
  {
   "cell_type": "code",
   "execution_count": 54,
   "id": "5b5927c0-7f35-4688-8a8f-1e566435c4b4",
   "metadata": {},
   "outputs": [],
   "source": [
    "p = 0.2\n",
    "r = 4"
   ]
  },
  {
   "cell_type": "markdown",
   "id": "e114f019-d589-4e5a-a283-5dc2e19b3f34",
   "metadata": {},
   "source": [
    " "
   ]
  },
  {
   "cell_type": "code",
   "execution_count": 55,
   "id": "041b6c5f-4899-44b3-a221-4e38d88b3c32",
   "metadata": {},
   "outputs": [
    {
     "data": {
      "text/plain": [
       "20.0"
      ]
     },
     "execution_count": 55,
     "metadata": {},
     "output_type": "execute_result"
    }
   ],
   "source": [
    "mu = r/p\n",
    "\n",
    "mu"
   ]
  },
  {
   "cell_type": "markdown",
   "id": "82f6858e-ae35-4d3a-ae81-c52a306c60b8",
   "metadata": {},
   "source": [
    " "
   ]
  },
  {
   "cell_type": "code",
   "execution_count": 56,
   "id": "2d55432d-3ae6-4ec5-8231-534a7d1775b1",
   "metadata": {},
   "outputs": [
    {
     "data": {
      "text/plain": [
       "0.04785074604081152"
      ]
     },
     "execution_count": 56,
     "metadata": {},
     "output_type": "execute_result"
    }
   ],
   "source": [
    "k = 18\n",
    "nbinom.pmf(k - r, r, p)"
   ]
  },
  {
   "cell_type": "markdown",
   "id": "82cf8ffc-66b7-437e-a3c2-b2a697bb3659",
   "metadata": {},
   "source": [
    " "
   ]
  },
  {
   "cell_type": "code",
   "execution_count": 57,
   "id": "ea8dbffa-8394-4de2-af6f-20fa461ac56f",
   "metadata": {},
   "outputs": [
    {
     "name": "stdout",
     "output_type": "stream",
     "text": [
      "17 0.0493\n",
      "18 0.0479\n",
      "19 0.0459\n",
      "20 0.0436\n",
      "21 0.0411\n"
     ]
    }
   ],
   "source": [
    "for k in range(17, 22):\n",
    "    f = nbinom.pmf(k - r, r, p)\n",
    "    print(k, np.round(f, 4))"
   ]
  },
  {
   "cell_type": "markdown",
   "id": "29cd5699-c52b-4c3d-a83c-839adb198874",
   "metadata": {},
   "source": [
    " "
   ]
  },
  {
   "cell_type": "markdown",
   "id": "1882504c-490b-4430-9d1d-2bca9ae1917a",
   "metadata": {},
   "source": [
    " "
   ]
  },
  {
   "cell_type": "markdown",
   "id": "e12915d0-0fbe-4bed-8898-dd73a0189821",
   "metadata": {},
   "source": [
    " "
   ]
  },
  {
   "cell_type": "code",
   "execution_count": 66,
   "id": "749dac5e-eb68-4936-a28c-27f11dd4fa0c",
   "metadata": {},
   "outputs": [
    {
     "data": {
      "image/png": "[encoded data removed]",
      "text/plain": [
       "<Figure size 640x480 with 1 Axes>"
      ]
     },
     "metadata": {},
     "output_type": "display_data"
    }
   ],
   "source": [
    "x = np.arange(r, r+40)\n",
    "\n",
    "f_values = nbinom.pmf(x - r, r, p)\n",
    "\n",
    "plt.stem(x, f_values, basefmt=\" \")\n",
    "plt.xlabel('Number of trials')\n",
    "plt.ylabel('Probability')\n",
    "plt.grid;"
   ]
  },
  {
   "cell_type": "markdown",
   "id": "80c4f001-3e05-467a-84cc-d11343b73c02",
   "metadata": {},
   "source": [
    " "
   ]
  },
  {
   "cell_type": "markdown",
   "id": "dd023653-5525-4bb0-8398-35059b0c72ad",
   "metadata": {},
   "source": [
    " "
   ]
  },
  {
   "cell_type": "markdown",
   "id": "0b10cb8c-4ef3-4e08-9a2b-d37e5fc4632d",
   "metadata": {},
   "source": [
    " "
   ]
  },
  {
   "cell_type": "code",
   "execution_count": 67,
   "id": "e300f8d7-6f89-4f8b-a3c7-1885d580e171",
   "metadata": {},
   "outputs": [
    {
     "data": {
      "image/png": "[encoded data removed]",
      "text/plain": [
       "<Figure size 1000x600 with 1 Axes>"
      ]
     },
     "metadata": {},
     "output_type": "display_data"
    }
   ],
   "source": [
    "import numpy as np\n",
    "import matplotlib.pyplot as plt\n",
    "from scipy.stats import nbinom\n",
    "\n",
    "def plot_negative_binomial_trials_till_r_successes(r, p, ax):\n",
    "    \"\"\"\n",
    "    Plot the negative binomial distribution (number of trials till r successes) for given r and p.\n",
    "    \n",
    "    Parameters:\n",
    "    r : int\n",
    "        Number of successes.\n",
    "    p : float\n",
    "        Probability of success.\n",
    "    ax : matplotlib.axes.Axes\n",
    "        Axis object to plot the distribution on.\n",
    "    \"\"\"\n",
    "    # Define the range of x values\n",
    "    x = np.arange(r, r + 50)\n",
    "    \n",
    "    # Calculate the probability mass function\n",
    "    pmf = nbinom.pmf(x - r, r, p)\n",
    "    \n",
    "    # Plot the distribution\n",
    "    ax.plot(x, pmf, 'o', label=f'r={r}, p={p}')\n",
    "    ax.vlines(x, 0, pmf, colors='b', lw=2, alpha=0.5)\n",
    "    ax.set_title(f'Negative Binomial Distribution (r={r}, p={p})')\n",
    "    ax.set_xlabel('Number of Trials')\n",
    "    ax.set_ylabel('Probability')\n",
    "    ax.legend()\n",
    "\n",
    "# Create subplots for different parameter combinations\n",
    "fig, ax = plt.subplots(1, 1, figsize=(10, 6))\n",
    "\n",
    "# Define parameter combinations\n",
    "params = [(4, 0.2)]\n",
    "\n",
    "# Plot the distributions\n",
    "\n",
    "plot_negative_binomial_trials_till_r_successes(r, p, ax)\n",
    "\n",
    "plt.tight_layout()\n",
    "plt.show()\n"
   ]
  },
  {
   "cell_type": "markdown",
   "id": "1f495c21-bfaf-4772-bbeb-c9713adc27bc",
   "metadata": {},
   "source": [
    " "
   ]
  },
  {
   "cell_type": "markdown",
   "id": "4a58e0fc-fdc0-4f83-a7c9-a6dc918f354e",
   "metadata": {},
   "source": [
    " "
   ]
  },
  {
   "cell_type": "markdown",
   "id": "b0d3abe5-bbbe-4c94-ae5f-b811335bd4bd",
   "metadata": {},
   "source": [
    "**3.103**"
   ]
  },
  {
   "cell_type": "code",
   "execution_count": 68,
   "id": "1dd7d4db-ee3f-44bd-8b50-3017a28dbdc5",
   "metadata": {},
   "outputs": [],
   "source": [
    "p = 0.8"
   ]
  },
  {
   "cell_type": "markdown",
   "id": "ebb27632-0940-407c-ba18-a1dcc118dc2c",
   "metadata": {},
   "source": [
    " "
   ]
  },
  {
   "cell_type": "code",
   "execution_count": 73,
   "id": "85f82a9f-18cf-4e94-93e8-ce3cc18d5e86",
   "metadata": {},
   "outputs": [
    {
     "data": {
      "text/plain": [
       "0.006399999999999996"
      ]
     },
     "execution_count": 73,
     "metadata": {},
     "output_type": "execute_result"
    }
   ],
   "source": [
    "n = 4\n",
    "geom.pmf(n, p)"
   ]
  },
  {
   "cell_type": "markdown",
   "id": "515c2eca-d001-4ad0-8146-5160de5f45cf",
   "metadata": {},
   "source": [
    " "
   ]
  },
  {
   "cell_type": "markdown",
   "id": "e223f6e1-f6c9-4cc9-bdd0-03fc6faae1e8",
   "metadata": {},
   "source": [
    " "
   ]
  },
  {
   "cell_type": "code",
   "execution_count": 74,
   "id": "b8b6bc63-bf1f-426e-9a8d-6795bebc4670",
   "metadata": {},
   "outputs": [
    {
     "data": {
      "text/plain": [
       "0.9984"
      ]
     },
     "execution_count": 74,
     "metadata": {},
     "output_type": "execute_result"
    }
   ],
   "source": [
    "n = 4\n",
    "geom.cdf(n, p)"
   ]
  },
  {
   "cell_type": "markdown",
   "id": "d03bc250-ccc9-469a-ad8f-93e9d69a5373",
   "metadata": {},
   "source": [
    " "
   ]
  },
  {
   "cell_type": "markdown",
   "id": "c3f00a77-84ed-4d9e-8bf8-2c695f08a6e9",
   "metadata": {},
   "source": [
    " "
   ]
  },
  {
   "cell_type": "markdown",
   "id": "190f7d46-92c1-46f5-b82e-e1a1d9b5c3b7",
   "metadata": {},
   "source": [
    " "
   ]
  },
  {
   "cell_type": "code",
   "execution_count": 78,
   "id": "f622fbd5-317f-4f93-a4e2-c7db881d6cff",
   "metadata": {},
   "outputs": [
    {
     "data": {
      "text/plain": [
       "1600.0"
      ]
     },
     "execution_count": 78,
     "metadata": {},
     "output_type": "execute_result"
    }
   ],
   "source": [
    "8/0.005"
   ]
  },
  {
   "cell_type": "markdown",
   "id": "c85c5507-a93a-425e-8e48-b637a36c2dc9",
   "metadata": {},
   "source": [
    " "
   ]
  },
  {
   "cell_type": "markdown",
   "id": "a22fa0aa-7a19-49fe-974f-c8437d233e43",
   "metadata": {},
   "source": [
    " "
   ]
  },
  {
   "cell_type": "markdown",
   "id": "254ac8a5-a536-4903-9b70-428084654b66",
   "metadata": {},
   "source": [
    " "
   ]
  },
  {
   "cell_type": "markdown",
   "id": "f6e9ee0e-e10d-4810-b42f-cd9e9e597b49",
   "metadata": {},
   "source": [
    " "
   ]
  },
  {
   "cell_type": "markdown",
   "id": "8c9d405a-155b-48a9-8229-affd70c47903",
   "metadata": {},
   "source": [
    " "
   ]
  },
  {
   "cell_type": "markdown",
   "id": "81ca90ca-f836-43b3-a587-21e1e5f33dbb",
   "metadata": {},
   "source": [
    "# Hypergeometric"
   ]
  },
  {
   "cell_type": "markdown",
   "id": "17650b26-c2d9-4074-a40a-99e1bfccf158",
   "metadata": {},
   "source": [
    " "
   ]
  },
  {
   "cell_type": "markdown",
   "id": "f4f6f3ad-fc65-485e-ad35-a415195b5e10",
   "metadata": {},
   "source": [
    " "
   ]
  },
  {
   "cell_type": "code",
   "execution_count": 1,
   "id": "c378f7e0-23b5-451a-bada-543f7f55a1a2",
   "metadata": {},
   "outputs": [],
   "source": [
    "from scipy.stats import hypergeom"
   ]
  },
  {
   "cell_type": "markdown",
   "id": "b8b521b1-133b-41a7-b232-82a3d1c9edbb",
   "metadata": {},
   "source": [
    " "
   ]
  },
  {
   "cell_type": "markdown",
   "id": "dedf014d-6543-4082-84ca-7c4313763e41",
   "metadata": {},
   "source": [
    " "
   ]
  },
  {
   "cell_type": "markdown",
   "id": "c8962d62-1e53-4a08-8369-92e98127838e",
   "metadata": {},
   "source": [
    " "
   ]
  },
  {
   "cell_type": "markdown",
   "id": "40d5f9f3-4ba2-45d6-8bba-7f4282d9653c",
   "metadata": {},
   "source": [
    "**3.117**"
   ]
  },
  {
   "cell_type": "code",
   "execution_count": 3,
   "id": "b8c8b3d9-b72c-497b-b4bc-7d1b4010f1d5",
   "metadata": {},
   "outputs": [],
   "source": [
    "N = 100\n",
    "n = 4\n",
    "K = 20\n",
    "\n",
    "h = hypergeom(N, K, n)"
   ]
  },
  {
   "cell_type": "markdown",
   "id": "660db8b2-22cf-407f-af92-225a828edc85",
   "metadata": {},
   "source": [
    " "
   ]
  },
  {
   "cell_type": "markdown",
   "id": "01022002-8935-42fb-9daa-8b36694ab43a",
   "metadata": {},
   "source": [
    " "
   ]
  },
  {
   "cell_type": "code",
   "execution_count": 4,
   "id": "a223cd6c-cb0e-46a3-8371-a5e645b1241f",
   "metadata": {},
   "outputs": [
    {
     "data": {
      "text/plain": [
       "0.41905271949454564"
      ]
     },
     "execution_count": 4,
     "metadata": {},
     "output_type": "execute_result"
    }
   ],
   "source": [
    "h.pmf(1)"
   ]
  },
  {
   "cell_type": "markdown",
   "id": "634c3b8b-4ea5-47e4-afd9-a55cef535afd",
   "metadata": {},
   "source": [
    " "
   ]
  },
  {
   "cell_type": "markdown",
   "id": "7959701f-3499-4a81-8d87-6325e046f6bf",
   "metadata": {},
   "source": [
    " "
   ]
  },
  {
   "cell_type": "code",
   "execution_count": 5,
   "id": "ee112c92-353a-4bf2-942d-13e6748ff9bd",
   "metadata": {},
   "outputs": [
    {
     "data": {
      "text/plain": [
       "0.0012355832679838568"
      ]
     },
     "execution_count": 5,
     "metadata": {},
     "output_type": "execute_result"
    }
   ],
   "source": [
    "h.pmf(4)"
   ]
  },
  {
   "cell_type": "markdown",
   "id": "273342d0-e7c2-4d0c-a5e6-871092ddb99d",
   "metadata": {},
   "source": [
    " "
   ]
  },
  {
   "cell_type": "markdown",
   "id": "ddadddf5-97ba-4070-ab62-ee87602b8f37",
   "metadata": {},
   "source": [
    " "
   ]
  },
  {
   "cell_type": "code",
   "execution_count": 6,
   "id": "6a7bb40a-89b3-4f66-8a93-71a243fd2ad3",
   "metadata": {},
   "outputs": [
    {
     "data": {
      "text/plain": [
       "0.0"
      ]
     },
     "execution_count": 6,
     "metadata": {},
     "output_type": "execute_result"
    }
   ],
   "source": [
    "h.pmf(6)"
   ]
  },
  {
   "cell_type": "markdown",
   "id": "59c6e2c5-7d2d-4d29-bc57-66c8bafca76f",
   "metadata": {},
   "source": [
    " "
   ]
  },
  {
   "cell_type": "markdown",
   "id": "9e4c95e1-b4af-4cb9-be6a-0ee8ee62d9ee",
   "metadata": {},
   "source": [
    " "
   ]
  },
  {
   "cell_type": "markdown",
   "id": "558336a2-6d00-463c-bc3f-df4e8235acbb",
   "metadata": {},
   "source": [
    " "
   ]
  },
  {
   "cell_type": "markdown",
   "id": "40e1fa3e-f261-48b9-81c5-8f5b45a5ef02",
   "metadata": {},
   "source": [
    " "
   ]
  },
  {
   "cell_type": "markdown",
   "id": "2b61ce54-7e90-4b62-8cc0-0c8334a713ea",
   "metadata": {},
   "source": [
    " "
   ]
  },
  {
   "cell_type": "markdown",
   "id": "6183f5d2-cc76-47ea-b65d-68edd056ce67",
   "metadata": {},
   "source": [
    " "
   ]
  },
  {
   "cell_type": "markdown",
   "id": "3792ebe9-83fd-49df-bd40-a2256a57850b",
   "metadata": {},
   "source": [
    " "
   ]
  },
  {
   "cell_type": "markdown",
   "id": "9323c759-acfe-4d8b-a47a-29ab0b8f632d",
   "metadata": {},
   "source": [
    " "
   ]
  },
  {
   "cell_type": "markdown",
   "id": "e95dd5ac-cbd8-4143-b453-5f8a72ae3fe5",
   "metadata": {},
   "source": [
    "# Poisson"
   ]
  },
  {
   "cell_type": "markdown",
   "id": "525f19cc-7a4d-4939-b207-47a685938c5c",
   "metadata": {},
   "source": [
    " "
   ]
  },
  {
   "cell_type": "code",
   "execution_count": 1,
   "id": "dc7ee84a-b4b1-4d11-ba4a-7132dca60487",
   "metadata": {},
   "outputs": [],
   "source": [
    "from scipy.stats import poisson\n",
    "\n",
    "mu = 4"
   ]
  },
  {
   "cell_type": "markdown",
   "id": "337a9d28-ea94-4400-9b76-0da53e6f82ca",
   "metadata": {},
   "source": [
    " "
   ]
  },
  {
   "cell_type": "markdown",
   "id": "9b7224f7-0af2-460f-b7bf-c7095691f528",
   "metadata": {},
   "source": [
    " "
   ]
  },
  {
   "cell_type": "code",
   "execution_count": 2,
   "id": "876cb90b-1d1b-4f6a-ad2d-5efc07aac8ba",
   "metadata": {},
   "outputs": [
    {
     "data": {
      "text/plain": [
       "0.01831563888873418"
      ]
     },
     "execution_count": 2,
     "metadata": {},
     "output_type": "execute_result"
    }
   ],
   "source": [
    "x = 0\n",
    "poisson.pmf(x, mu)"
   ]
  },
  {
   "cell_type": "markdown",
   "id": "2f3a6b89-e33e-47b6-8635-6d14da1c90da",
   "metadata": {},
   "source": [
    " "
   ]
  },
  {
   "cell_type": "markdown",
   "id": "da1284da-768c-4021-8200-b6a6a0270dd9",
   "metadata": {},
   "source": [
    " "
   ]
  },
  {
   "cell_type": "code",
   "execution_count": 3,
   "id": "91090bb3-a389-4919-a580-6d1db3a34aa4",
   "metadata": {},
   "outputs": [
    {
     "data": {
      "text/plain": [
       "0.23810330555354436"
      ]
     },
     "execution_count": 3,
     "metadata": {},
     "output_type": "execute_result"
    }
   ],
   "source": [
    "x = 2\n",
    "poisson.cdf(x, mu)"
   ]
  },
  {
   "cell_type": "markdown",
   "id": "3736e17c-fbb6-45ef-9213-1a1c7b8110da",
   "metadata": {},
   "source": [
    " "
   ]
  },
  {
   "cell_type": "markdown",
   "id": "6d932b17-dd75-4e89-b859-f00bd698c3d4",
   "metadata": {},
   "source": [
    " "
   ]
  },
  {
   "cell_type": "code",
   "execution_count": 4,
   "id": "075e9cc2-59b8-4891-8387-a9d845eeb82e",
   "metadata": {},
   "outputs": [
    {
     "data": {
      "text/plain": [
       "0.19536681481316454"
      ]
     },
     "execution_count": 4,
     "metadata": {},
     "output_type": "execute_result"
    }
   ],
   "source": [
    "x = 4\n",
    "poisson.pmf(x, mu)"
   ]
  },
  {
   "cell_type": "markdown",
   "id": "c438524a-66eb-4363-8f22-8723f9612818",
   "metadata": {},
   "source": [
    " "
   ]
  },
  {
   "cell_type": "markdown",
   "id": "004e10ce-9568-4a9e-a3fe-3fabc442b2fa",
   "metadata": {},
   "source": [
    " "
   ]
  },
  {
   "cell_type": "code",
   "execution_count": 5,
   "id": "0ddff28a-56a2-4e86-9112-f9c295a94f22",
   "metadata": {},
   "outputs": [
    {
     "data": {
      "text/plain": [
       "0.26424111765711533"
      ]
     },
     "execution_count": 5,
     "metadata": {},
     "output_type": "execute_result"
    }
   ],
   "source": [
    "mu = 1\n",
    "x = 1\n",
    "\n",
    "1 - poisson.cdf(x, mu)"
   ]
  },
  {
   "cell_type": "markdown",
   "id": "c2b75df0-0e99-4052-b1ec-33d688f24bd0",
   "metadata": {},
   "source": [
    " "
   ]
  },
  {
   "cell_type": "markdown",
   "id": "4506c4a9-5255-46cc-9a46-a8a7a3162e18",
   "metadata": {},
   "source": [
    " "
   ]
  },
  {
   "cell_type": "markdown",
   "id": "e06cba25-efbe-4037-9a50-88619eccccf3",
   "metadata": {},
   "source": [
    " "
   ]
  },
  {
   "cell_type": "markdown",
   "id": "923f51de-da70-415c-985c-c7c4c842094b",
   "metadata": {},
   "source": [
    " "
   ]
  },
  {
   "cell_type": "markdown",
   "id": "7c9e30c2-5fe0-45e2-9f17-9555557c112c",
   "metadata": {},
   "source": [
    " "
   ]
  },
  {
   "cell_type": "markdown",
   "id": "8ccb1ae8-da01-48fd-b6a6-758ab70d85fb",
   "metadata": {},
   "source": [
    " "
   ]
  },
  {
   "cell_type": "markdown",
   "id": "3f7560f9-8333-4a77-b11f-25090acbd38e",
   "metadata": {},
   "source": [
    " "
   ]
  },
  {
   "cell_type": "markdown",
   "id": "9c8b2ca7-1269-41f6-8d64-ec3143b960a9",
   "metadata": {},
   "source": [
    " "
   ]
  },
  {
   "cell_type": "markdown",
   "id": "ffde7141-c56f-4a34-8d3f-3dfc489b95e9",
   "metadata": {},
   "source": [
    " "
   ]
  },
  {
   "cell_type": "markdown",
   "id": "660d857e-aa9c-42cb-8438-9ef7660d7563",
   "metadata": {},
   "source": [
    " "
   ]
  },
  {
   "cell_type": "markdown",
   "id": "bae467c4-b0d0-49e4-9494-4b580ffb8e84",
   "metadata": {},
   "source": [
    " "
   ]
  },
  {
   "cell_type": "markdown",
   "id": "07cf87b0-1b8f-407a-b60c-d28a2ae3c0be",
   "metadata": {},
   "source": [
    " "
   ]
  },
  {
   "cell_type": "markdown",
   "id": "ce754302-b443-4622-b8fa-54d15ca89fbd",
   "metadata": {},
   "source": [
    " "
   ]
  },
  {
   "cell_type": "markdown",
   "id": "de48313a-bd3d-43fa-83f5-ddf69f4a9f61",
   "metadata": {},
   "source": [
    " "
   ]
  },
  {
   "cell_type": "markdown",
   "id": "a905a228-99bf-438f-aada-58e8646b989b",
   "metadata": {},
   "source": [
    " "
   ]
  },
  {
   "cell_type": "markdown",
   "id": "a2069335-d82f-4fbd-b033-9946f90f8244",
   "metadata": {},
   "source": [
    " "
   ]
  },
  {
   "cell_type": "markdown",
   "id": "b6573361-8a2f-4246-bbce-ad1838aef06b",
   "metadata": {},
   "source": [
    " "
   ]
  }
 ],
 "metadata": {
  "kernelspec": {
   "display_name": "projects",
   "language": "python",
   "name": "projects"
  },
  "language_info": {
   "codemirror_mode": {
    "name": "ipython",
    "version": 3
   },
   "file_extension": ".py",
   "mimetype": "text/x-python",
   "name": "python",
   "nbconvert_exporter": "python",
   "pygments_lexer": "ipython3",
   "version": "3.11.7"
  }
 },
 "nbformat": 4,
 "nbformat_minor": 5
}
