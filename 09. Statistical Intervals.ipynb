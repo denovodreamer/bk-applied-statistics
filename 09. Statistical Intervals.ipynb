{
 "cells": [
  {
   "cell_type": "markdown",
   "id": "7d92cf08-4970-4e9d-84d1-ebef663ccd6a",
   "metadata": {},
   "source": [
    "  "
   ]
  },
  {
   "cell_type": "markdown",
   "id": "42697d2b-b9cf-4aad-8f2a-c0f180f39f52",
   "metadata": {},
   "source": [
    "  "
   ]
  },
  {
   "cell_type": "markdown",
   "id": "2830fd69-98b0-42b3-92a2-34e9e620137f",
   "metadata": {},
   "source": [
    "  "
   ]
  },
  {
   "cell_type": "markdown",
   "id": "447d051c-7b48-4b21-b637-43fb4a6e283d",
   "metadata": {},
   "source": [
    "  "
   ]
  },
  {
   "cell_type": "markdown",
   "id": "ed0ee923-5038-4569-b1e3-41e5287eab41",
   "metadata": {},
   "source": [
    "  "
   ]
  },
  {
   "cell_type": "markdown",
   "id": "7200c93e-7a9f-414b-ac8f-ffea24d1fb0f",
   "metadata": {},
   "source": [
    "  "
   ]
  },
  {
   "cell_type": "markdown",
   "id": "2c009b8f-100c-4843-a052-c3ea1c075fec",
   "metadata": {},
   "source": [
    "  "
   ]
  },
  {
   "cell_type": "markdown",
   "id": "f7dd6e76-2f96-43f3-bb80-0883376ed847",
   "metadata": {},
   "source": [
    "  "
   ]
  },
  {
   "cell_type": "markdown",
   "id": "d02e31d8-dc70-4b1d-acf4-ec5923243c92",
   "metadata": {},
   "source": [
    "  "
   ]
  },
  {
   "cell_type": "markdown",
   "id": "2cbf5a18-6c17-4abc-ac17-e031a9785ffe",
   "metadata": {},
   "source": [
    "  "
   ]
  },
  {
   "cell_type": "markdown",
   "id": "60313256-4201-4d17-8520-010fe085ff89",
   "metadata": {},
   "source": [
    "  "
   ]
  },
  {
   "cell_type": "markdown",
   "id": "4f9e4e1f-d03b-4003-b890-b708068b09b9",
   "metadata": {},
   "source": [
    "  "
   ]
  },
  {
   "cell_type": "markdown",
   "id": "2b45f595-b4af-4785-bd98-48806ebc846e",
   "metadata": {},
   "source": [
    "  "
   ]
  },
  {
   "cell_type": "markdown",
   "id": "55c126d4-9180-46a4-9d5e-9a61553a03f5",
   "metadata": {},
   "source": [
    "  "
   ]
  },
  {
   "cell_type": "markdown",
   "id": "390b81da-46a1-4e0e-9c61-8cee23ec7423",
   "metadata": {},
   "source": [
    "  "
   ]
  },
  {
   "cell_type": "markdown",
   "id": "dae039eb-b649-4be5-bcee-860cfc81333f",
   "metadata": {},
   "source": [
    "  "
   ]
  },
  {
   "cell_type": "markdown",
   "id": "13908b7b-8f73-47b9-82a7-6a3ab39c69ba",
   "metadata": {},
   "source": [
    "  "
   ]
  },
  {
   "cell_type": "markdown",
   "id": "0c13b7fc-2e44-47bc-b9f5-cf4334bb6ccd",
   "metadata": {},
   "source": [
    "  "
   ]
  },
  {
   "cell_type": "markdown",
   "id": "bd88332e-eb24-4c21-aeba-db7c1a1764e5",
   "metadata": {},
   "source": [
    "  "
   ]
  },
  {
   "cell_type": "markdown",
   "id": "de88d238-f51b-45e3-b6d8-bd1f47011d9c",
   "metadata": {},
   "source": [
    "  "
   ]
  },
  {
   "cell_type": "markdown",
   "id": "c98c88e1-560e-4390-b0e5-e5175eb40397",
   "metadata": {},
   "source": [
    "  "
   ]
  },
  {
   "cell_type": "markdown",
   "id": "918bfa02-4de5-47a7-a82d-5e0fc018754d",
   "metadata": {},
   "source": [
    "  "
   ]
  },
  {
   "cell_type": "markdown",
   "id": "173ab1d3-86fe-4875-9815-6ab4cfa83876",
   "metadata": {},
   "source": [
    "  "
   ]
  },
  {
   "cell_type": "markdown",
   "id": "185290f2-ed4c-46c3-bf41-91eb5b6519b2",
   "metadata": {},
   "source": [
    "  "
   ]
  },
  {
   "cell_type": "markdown",
   "id": "cd83d4af-246c-4dda-a7ce-b8b56f0990d2",
   "metadata": {},
   "source": [
    "  "
   ]
  },
  {
   "cell_type": "markdown",
   "id": "f9322e8f-1cdd-4a25-8ba5-17db9d52897c",
   "metadata": {},
   "source": [
    "  "
   ]
  },
  {
   "cell_type": "markdown",
   "id": "5b41cf17-2028-44aa-96f7-1c3cb6e7fc79",
   "metadata": {},
   "source": [
    "  "
   ]
  },
  {
   "cell_type": "markdown",
   "id": "3f062643-dece-44cf-9306-cd4c38e59a13",
   "metadata": {},
   "source": [
    "  "
   ]
  },
  {
   "cell_type": "markdown",
   "id": "9edcbbb4-b541-4793-a3f0-d03bbe516cae",
   "metadata": {},
   "source": [
    "  "
   ]
  },
  {
   "cell_type": "markdown",
   "id": "5af1921e-7a81-4e6f-9b82-cf139fdbfee7",
   "metadata": {},
   "source": [
    "  "
   ]
  },
  {
   "cell_type": "markdown",
   "id": "24a48f76-b4cf-42db-9feb-8808f9a29390",
   "metadata": {},
   "source": [
    "  "
   ]
  },
  {
   "cell_type": "markdown",
   "id": "d6e95991-da04-4d27-8f1a-6b3bcf6e7712",
   "metadata": {},
   "source": [
    "  "
   ]
  },
  {
   "cell_type": "markdown",
   "id": "1f1856b2-08fc-45f3-8703-14a83309c79b",
   "metadata": {},
   "source": [
    "  "
   ]
  },
  {
   "cell_type": "markdown",
   "id": "3832fc1f-fb70-4454-b007-93e1357b1f72",
   "metadata": {},
   "source": [
    "  "
   ]
  },
  {
   "cell_type": "markdown",
   "id": "8ac77e69-c4b1-464a-a4c6-c91e409b9ee5",
   "metadata": {},
   "source": [
    "  "
   ]
  },
  {
   "cell_type": "markdown",
   "id": "18aa9ec7-f95f-4c3a-94c8-9c246a677a03",
   "metadata": {},
   "source": [
    "  "
   ]
  },
  {
   "cell_type": "markdown",
   "id": "f18b6351-aa4f-49f5-aba5-cdf14441cb35",
   "metadata": {},
   "source": [
    "  "
   ]
  },
  {
   "cell_type": "markdown",
   "id": "eae20c57-f4d2-41a1-88e4-d1c30c5103b7",
   "metadata": {},
   "source": [
    "  "
   ]
  },
  {
   "cell_type": "markdown",
   "id": "f3a2d2b5-ce9b-4cbd-9be9-754af91402a6",
   "metadata": {},
   "source": [
    "  "
   ]
  },
  {
   "cell_type": "markdown",
   "id": "0a6765c4-d85a-4141-831f-4347e12f5aef",
   "metadata": {},
   "source": [
    "  "
   ]
  },
  {
   "cell_type": "markdown",
   "id": "e0d0d9da-aedd-4242-aaeb-5e7c0892fefc",
   "metadata": {},
   "source": [
    "  "
   ]
  },
  {
   "cell_type": "markdown",
   "id": "39e8297a-c550-46c5-9274-e4ab73cac6ab",
   "metadata": {},
   "source": [
    "  "
   ]
  },
  {
   "cell_type": "markdown",
   "id": "5aadd53c-1459-44d0-bdea-ddfb3b9bdf67",
   "metadata": {},
   "source": [
    "  "
   ]
  },
  {
   "cell_type": "markdown",
   "id": "95bc5409-ba80-444c-84aa-9514cc2bd36f",
   "metadata": {},
   "source": [
    "  "
   ]
  },
  {
   "cell_type": "markdown",
   "id": "5d193b10-f273-48b4-9108-4050cdff8321",
   "metadata": {},
   "source": [
    "  "
   ]
  },
  {
   "cell_type": "markdown",
   "id": "f339d6bf-ce4b-4559-946b-affb8f75d05b",
   "metadata": {},
   "source": [
    "  "
   ]
  }
 ],
 "metadata": {
  "kernelspec": {
   "display_name": "projects",
   "language": "python",
   "name": "projects"
  },
  "language_info": {
   "codemirror_mode": {
    "name": "ipython",
    "version": 3
   },
   "file_extension": ".py",
   "mimetype": "text/x-python",
   "name": "python",
   "nbconvert_exporter": "python",
   "pygments_lexer": "ipython3",
   "version": "3.11.7"
  }
 },
 "nbformat": 4,
 "nbformat_minor": 5
}
