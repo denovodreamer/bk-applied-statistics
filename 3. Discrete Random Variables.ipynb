{
 "cells": [
  {
   "cell_type": "markdown",
   "id": "5aa3552c-b021-4845-acc0-ed09dbe11639",
   "metadata": {},
   "source": [
    " "
   ]
  },
  {
   "cell_type": "markdown",
   "id": "10b7a398-4ccd-4e5b-9828-e4a533831bfa",
   "metadata": {},
   "source": [
    " "
   ]
  },
  {
   "cell_type": "markdown",
   "id": "52539027-24b0-47bb-ba82-e82ffc357c7b",
   "metadata": {},
   "source": [
    " "
   ]
  },
  {
   "cell_type": "markdown",
   "id": "284be986-df54-4679-9d0f-9d6e32b53a40",
   "metadata": {},
   "source": [
    " "
   ]
  },
  {
   "cell_type": "code",
   "execution_count": 5,
   "id": "06ad0249-92d0-440e-9524-ea7786579172",
   "metadata": {},
   "outputs": [],
   "source": [
    "import scipy.stats as stats"
   ]
  },
  {
   "cell_type": "markdown",
   "id": "c8129f43-74e1-4f56-a423-1cde2201bfc8",
   "metadata": {},
   "source": [
    " "
   ]
  },
  {
   "cell_type": "markdown",
   "id": "cbaa1710-9387-43c7-95fb-81851cb29308",
   "metadata": {},
   "source": [
    " "
   ]
  },
  {
   "cell_type": "markdown",
   "id": "fd52aa74-8930-4fe3-a85f-86b4265e35a5",
   "metadata": {},
   "source": [
    " "
   ]
  },
  {
   "cell_type": "markdown",
   "id": "354d6b55-ad47-48bb-bc48-1e9926d9eb48",
   "metadata": {},
   "source": [
    " "
   ]
  },
  {
   "cell_type": "markdown",
   "id": "3de42883-b650-4414-bec9-a79fe5a3a290",
   "metadata": {},
   "source": [
    " "
   ]
  },
  {
   "cell_type": "markdown",
   "id": "5918debf-e8c6-41df-9a7d-b32ba7ffa90a",
   "metadata": {},
   "source": [
    " "
   ]
  },
  {
   "cell_type": "markdown",
   "id": "ae64a2dc-169e-45a2-b8bc-812838555f46",
   "metadata": {},
   "source": [
    "# Binomial Distribution"
   ]
  },
  {
   "cell_type": "markdown",
   "id": "0cff46c8-a78d-45c8-9e9c-02cd8c393e74",
   "metadata": {},
   "source": [
    " "
   ]
  },
  {
   "cell_type": "markdown",
   "id": "af84afd9-51bf-4916-9f69-c8dc91aa7dd8",
   "metadata": {},
   "source": [
    " "
   ]
  },
  {
   "cell_type": "code",
   "execution_count": 8,
   "id": "b0baa659-73e4-48c1-8de8-3c7d7892bed3",
   "metadata": {},
   "outputs": [],
   "source": [
    "n = 20\n",
    "p = 0.2\n",
    "\n",
    "binom_dist = stats.binom(n, p)"
   ]
  },
  {
   "cell_type": "markdown",
   "id": "15944adf-9338-4767-9a72-efd4a5a87ac2",
   "metadata": {},
   "source": [
    " "
   ]
  },
  {
   "cell_type": "markdown",
   "id": "184582b1-cd00-4c88-9f1c-41732a95bfe6",
   "metadata": {},
   "source": [
    " "
   ]
  },
  {
   "cell_type": "markdown",
   "id": "923a0201-72c5-4a54-9e55-fe7b2af0037c",
   "metadata": {},
   "source": [
    " "
   ]
  },
  {
   "cell_type": "markdown",
   "id": "e78ed0de-a740-4daa-b8b6-269c2c459e9c",
   "metadata": {},
   "source": [
    " "
   ]
  },
  {
   "cell_type": "code",
   "execution_count": 9,
   "id": "a48b4581-35cb-4e7a-a8f3-ab9e5a51b0f9",
   "metadata": {},
   "outputs": [
    {
     "name": "stdout",
     "output_type": "stream",
     "text": [
      "Probability of 3 successes: 0.20536414300809488\n"
     ]
    }
   ],
   "source": [
    "k = 3\n",
    "prob_k_successes = binom_dist.pmf(k)\n",
    "\n",
    "print(f\"Probability of {k} successes: {prob_k_successes}\")"
   ]
  },
  {
   "cell_type": "markdown",
   "id": "6a07f3d0-6274-4963-9e9f-58fb7a139983",
   "metadata": {},
   "source": [
    " "
   ]
  },
  {
   "cell_type": "markdown",
   "id": "42c33110-a10f-44fd-9b1a-c6cf95a6e25c",
   "metadata": {},
   "source": [
    " "
   ]
  },
  {
   "cell_type": "code",
   "execution_count": 11,
   "id": "3dae9c5e-8bb2-47db-8a29-c5728a15ec24",
   "metadata": {},
   "outputs": [
    {
     "data": {
      "text/plain": [
       "0.41144886195656927"
      ]
     },
     "execution_count": 11,
     "metadata": {},
     "output_type": "execute_result"
    }
   ],
   "source": [
    "prob = 0\n",
    "for k in range(0, 3+1):\n",
    "    prob += binom_dist.pmf(k)\n",
    "prob"
   ]
  },
  {
   "cell_type": "markdown",
   "id": "4f0d6b72-38ee-4982-b62c-550497e1e5e8",
   "metadata": {},
   "source": [
    " "
   ]
  },
  {
   "cell_type": "markdown",
   "id": "1f2e06ad-5f4d-4ed5-847c-31e4c85233c9",
   "metadata": {},
   "source": [
    " "
   ]
  },
  {
   "cell_type": "code",
   "execution_count": 10,
   "id": "40d29fbd-56bc-4491-b3dd-b74c2df9833f",
   "metadata": {},
   "outputs": [
    {
     "data": {
      "text/plain": [
       "0.41144886195656893"
      ]
     },
     "execution_count": 10,
     "metadata": {},
     "output_type": "execute_result"
    }
   ],
   "source": [
    "k = 3\n",
    "\n",
    "binom_dist.cdf(k)"
   ]
  },
  {
   "cell_type": "markdown",
   "id": "b7cd06cc-d704-4796-a75b-05662ae2b8d8",
   "metadata": {},
   "source": [
    " "
   ]
  },
  {
   "cell_type": "markdown",
   "id": "32a52bbd-a74f-4398-b9b2-e01e4273b762",
   "metadata": {},
   "source": [
    " "
   ]
  },
  {
   "cell_type": "markdown",
   "id": "0b315ce5-193e-422e-a665-276a19a88dca",
   "metadata": {},
   "source": [
    " "
   ]
  },
  {
   "cell_type": "code",
   "execution_count": 4,
   "id": "f11ff4d9-7b6a-4dc9-8a2c-c560a30430d5",
   "metadata": {},
   "outputs": [
    {
     "name": "stdout",
     "output_type": "stream",
     "text": [
      "[5 7 5 6 5 5 4 3 5 4 4 4 4 5 4 6 5 8 4 3 5 7 4 4 3 9 3 7 6 3 4 5 5 3 3 7 5\n",
      " 5 4 9 7 4 7 5 5 5 8 2 4 7 5 6 4 6 4 4 5 5 4 4 7 5 4 5 6 7 4 4 6 3 7 6 5 6\n",
      " 7 7 7 4 7 5 4 6 5 7 7 4 5 7 5 3 3 7 6 7 2 8 4 5 6 4 5 6 5 6 7 7 5 4 3 5 2\n",
      " 3 3 4 3 4 9 6 7 4 6 5 4 7 4 4 5 6 6 5 4 4 6 5 5 5 3 7 6 3 6 3 2 8 2 4 6 5\n",
      " 3 6 3 5 7 4 3 4 7 7 4 7 3 5 4 5 3 6 3 8 7 4 6 5 4 3 5 5 4 7 7 3 5 6 6 7 7\n",
      " 4 3 4 5 6 4 5 1 4 7 2 6 2 6 5 5 6 5 4 6 6 6 5 5 6 7 3 4 4 6 3 4 8 4 3 3 5\n",
      " 4 3 4 4 4 4 6 3 8 6 4 6 7 7 4 4 4 7 3 5 8 7 6 6 3 9 4 5 6 6 4 5 6 4 5 5 6\n",
      " 5 3 6 6 1 8 6 5 7 5 4 5 4 3 4 5 5 5 6 4 4 5 5 7 5 6 6 4 5 5 7 5 5 7 7 6 7\n",
      " 7 5 8 3 5 5 3 4 7 7 2 4 3 6 5 5 4 6 5 4 6 7 6 3 6 5 5 3 5 4 7 4 6 4 4 6 3\n",
      " 6 5 5 6 7 9 5 6 5 5 6 6 6 5 6 8 3 5 5 4 5 8 5 3 6 6 5 6 4 4 6 4 6 8 5 5 7\n",
      " 6 6 4 4 5 7 4 5 9 5 8 4 5 7 6 8 5 6 7 4 3 6 5 4 6 6 5 2 3 6 6 6 3 7 7 7 6\n",
      " 6 2 8 8 5 5 7 7 5 2 3 3 6 6 6 6 6 6 5 3 6 5 3 7 6 7 2 5 5 3 4 5 6 5 6 5 4\n",
      " 4 8 6 2 6 8 4 6 5 4 7 4 4 3 7 5 9 6 6 7 5 5 5 8 7 7 2 3 6 3 4 5 7 6 4 2 3\n",
      " 3 7 6 8 5 4 4 3 4 4 7 3 3 6 8 8 5 4 4 4 4 4 5 4 2 5 7 4 3 5 5 3 6 5 5 6 6\n",
      " 5 6 6 6 3 7 5 3 5 4 4 3 6 4 7 4 5 4 5 5 5 4 4 3 3 2 5 7 7 6 7 7 6 7 4 4 7\n",
      " 3 6 6 6 6 6 7 3 2 6 5 6 5 6 4 7 3 5 3 5 6 5 2 4 6 7 6 4 6 5 4 1 5 3 5 6 5\n",
      " 8 4 4 7 7 5 2 5 2 5 8 5 6 4 6 6 6 1 6 6 6 6 7 5 5 6 3 3 4 3 2 6 4 3 7 6 5\n",
      " 3 6 0 6 7 6 5 5 5 5 6 5 5 4 2 3 7 2 4 3 7 8 6 6 7 4 4 2 4 6 8 3 4 6 8 3 5\n",
      " 4 3 5 8 6 5 5 4 4 4 5 4 7 7 4 5 4 4 2 4 6 6 6 3 4 9 5 2 4 4 3 6 3 4 5 6 4\n",
      " 5 6 5 6 6 7 6 4 4 7 7 6 5 6 4 6 7 5 6 6 6 3 2 5 4 4 3 5 5 3 3 7 6 7 5 6 5\n",
      " 5 5 2 5 6 5 4 5 7 6 5 3 6 5 6 6 6 4 7 5 4 5 8 5 4 5 7 5 4 4 7 4 6 4 9 4 5\n",
      " 7 4 6 4 7 5 4 5 5 6 8 3 6 7 3 6 7 3 5 1 5 3 3 6 2 6 8 7 3 6 7 4 5 7 3 3 4\n",
      " 5 5 2 6 3 5 6 8 5 9 5 8 3 1 5 5 4 4 6 5 5 3 5 2 7 6 4 4 4 5 5 5 6 6 4 4 5\n",
      " 7 4 5 3 2 7 6 5 5 5 3 5 4 4 7 3 6 5 4 5 7 3 5 4 5 6 5 7 5 7 4 7 6 8 5 5 9\n",
      " 5 5 2 6 5 5 5 6 3 4 3 6 7 6 7 9 4 7 7 3 3 3 5 4 5 7 7 6 7 3 4 6 5 5 4 5 5\n",
      " 2 4 7 7 7 5 5 7 4 4 3 5 4 5 5 4 4 5 3 6 6 7 5 6 6 6 6 8 8 4 7 6 5 6 7 3 3\n",
      " 3 6 4 7 6 6 7 4 6 4 6 6 4 7 3 7 6 7 6 5 8 8 5 3 6 8 4 5 8 5 4 6 6 6 3 7 3\n",
      " 4]\n"
     ]
    }
   ],
   "source": [
    "# Generate random samples\n",
    "random_samples = binom_dist.rvs(size=1000)  # Generate 1000 random samples\n",
    "print(random_samples)"
   ]
  },
  {
   "cell_type": "markdown",
   "id": "cb42e9cb-a233-4de3-bb71-9fc36f6632e9",
   "metadata": {},
   "source": [
    " "
   ]
  },
  {
   "cell_type": "markdown",
   "id": "844888e5-1eda-4684-bc40-dfed7f729ba7",
   "metadata": {},
   "source": [
    " "
   ]
  },
  {
   "cell_type": "markdown",
   "id": "59545c13-e372-43a0-a868-14595d0dc32a",
   "metadata": {},
   "source": [
    " "
   ]
  },
  {
   "cell_type": "markdown",
   "id": "6936f923-4821-4e6e-8a0d-e47e0441a805",
   "metadata": {},
   "source": [
    " "
   ]
  },
  {
   "cell_type": "code",
   "execution_count": 14,
   "id": "236a617f-d46f-418b-91a3-8d67dd10651b",
   "metadata": {},
   "outputs": [
    {
     "data": {
      "image/png": "[encoded data removed]",
      "text/plain": [
       "<Figure size 640x480 with 1 Axes>"
      ]
     },
     "metadata": {},
     "output_type": "display_data"
    }
   ],
   "source": [
    "import numpy as np\n",
    "import matplotlib.pyplot as plt\n",
    "from scipy.stats import binom\n",
    "\n",
    "# Parameters for the binomial distribution\n",
    "n = 10  # Number of trials\n",
    "p = 0.5  # Probability of success\n",
    "\n",
    "# Calculate the PMF values\n",
    "x = np.arange(0, n+1)\n",
    "pmf_values = binom.pmf(x, n, p)\n",
    "\n",
    "# Plot the PMF\n",
    "plt.stem(x, pmf_values, basefmt=\" \")\n",
    "plt.xlabel('Number of successes')\n",
    "plt.ylabel('Probability')\n",
    "plt.title('Binomial Distribution PMF (n=10, p=0.5)')\n",
    "plt.grid;"
   ]
  },
  {
   "cell_type": "markdown",
   "id": "b6364d5c-2939-4b05-8bf4-7130b178c70f",
   "metadata": {},
   "source": [
    " "
   ]
  },
  {
   "cell_type": "markdown",
   "id": "6ec8ebf7-0dbc-4b15-a7af-1d4b6957e294",
   "metadata": {},
   "source": [
    " "
   ]
  },
  {
   "cell_type": "markdown",
   "id": "78025613-32c2-480c-827b-8feec006b9ee",
   "metadata": {},
   "source": [
    " "
   ]
  },
  {
   "cell_type": "markdown",
   "id": "674e0b1d-c600-4ac6-ab53-adc8e5b443e2",
   "metadata": {},
   "source": [
    " "
   ]
  },
  {
   "cell_type": "markdown",
   "id": "e9dcfb24-1c66-4f7c-82ad-0c362f602216",
   "metadata": {},
   "source": [
    " "
   ]
  },
  {
   "cell_type": "markdown",
   "id": "ef90f08f-97b1-47fb-8d3b-6c58fe0219d1",
   "metadata": {},
   "source": [
    " "
   ]
  },
  {
   "cell_type": "code",
   "execution_count": null,
   "id": "a284fb07-a230-426f-858e-b8adfdd11586",
   "metadata": {},
   "outputs": [],
   "source": [
    "Place Name % Instances\n",
    "1 I-Worm.Klez 61.22%\n",
    "3 I-Worm.Tanatos\n",
    "4 I-Worm.BadtransII\n",
    "5 Macro.Word97.Thus\n",
    "6 I-Worm.Hybris\n",
    "7 I-Worm.Bridex\n",
    "8 I-Worm.Magistr\n",
    "9 Win95.CIH\n",
    "2.09%\n",
    "1.31%\n",
    "1.19%\n",
    "0.60%\n",
    "0.32%\n",
    "0.30%\n",
    "0.27%\n",
    "10 I-Worm.Sircam\n",
    "The 10 most widespread malicious programs for 2002"
   ]
  },
  {
   "cell_type": "markdown",
   "id": "3f155600-5380-41da-8bd2-cf9e7940b4e2",
   "metadata": {},
   "source": [
    " "
   ]
  },
  {
   "cell_type": "markdown",
   "id": "6c3b233c-ab3b-4bf0-b655-4c3742a628ac",
   "metadata": {},
   "source": [
    " "
   ]
  },
  {
   "cell_type": "markdown",
   "id": "ffcaa99d-d393-4c83-a84a-6a2cd4dd76a3",
   "metadata": {},
   "source": [
    " "
   ]
  },
  {
   "cell_type": "markdown",
   "id": "0fd4d623-7141-4b8a-b32d-619d7280a162",
   "metadata": {},
   "source": [
    " "
   ]
  },
  {
   "cell_type": "markdown",
   "id": "fe3e53f8-dc38-4313-a8de-3bfa56e25a70",
   "metadata": {},
   "source": [
    " "
   ]
  },
  {
   "cell_type": "markdown",
   "id": "512af79d-851f-4ca7-a66c-2b00de284188",
   "metadata": {},
   "source": [
    " "
   ]
  },
  {
   "cell_type": "markdown",
   "id": "7e25b3e4-5c7f-43d0-a8ce-100e7aa0bf67",
   "metadata": {},
   "source": [
    " "
   ]
  },
  {
   "cell_type": "markdown",
   "id": "254ac8a5-a536-4903-9b70-428084654b66",
   "metadata": {},
   "source": [
    " "
   ]
  },
  {
   "cell_type": "markdown",
   "id": "3f7560f9-8333-4a77-b11f-25090acbd38e",
   "metadata": {},
   "source": [
    " "
   ]
  },
  {
   "cell_type": "markdown",
   "id": "9c8b2ca7-1269-41f6-8d64-ec3143b960a9",
   "metadata": {},
   "source": [
    " "
   ]
  },
  {
   "cell_type": "markdown",
   "id": "ffde7141-c56f-4a34-8d3f-3dfc489b95e9",
   "metadata": {},
   "source": [
    " "
   ]
  },
  {
   "cell_type": "markdown",
   "id": "660d857e-aa9c-42cb-8438-9ef7660d7563",
   "metadata": {},
   "source": [
    " "
   ]
  },
  {
   "cell_type": "markdown",
   "id": "bae467c4-b0d0-49e4-9494-4b580ffb8e84",
   "metadata": {},
   "source": [
    " "
   ]
  },
  {
   "cell_type": "markdown",
   "id": "07cf87b0-1b8f-407a-b60c-d28a2ae3c0be",
   "metadata": {},
   "source": [
    " "
   ]
  },
  {
   "cell_type": "markdown",
   "id": "ce754302-b443-4622-b8fa-54d15ca89fbd",
   "metadata": {},
   "source": [
    " "
   ]
  },
  {
   "cell_type": "markdown",
   "id": "de48313a-bd3d-43fa-83f5-ddf69f4a9f61",
   "metadata": {},
   "source": [
    " "
   ]
  },
  {
   "cell_type": "markdown",
   "id": "a905a228-99bf-438f-aada-58e8646b989b",
   "metadata": {},
   "source": [
    " "
   ]
  },
  {
   "cell_type": "markdown",
   "id": "a2069335-d82f-4fbd-b033-9946f90f8244",
   "metadata": {},
   "source": [
    " "
   ]
  },
  {
   "cell_type": "markdown",
   "id": "b6573361-8a2f-4246-bbce-ad1838aef06b",
   "metadata": {},
   "source": [
    " "
   ]
  }
 ],
 "metadata": {
  "kernelspec": {
   "display_name": "projects",
   "language": "python",
   "name": "projects"
  },
  "language_info": {
   "codemirror_mode": {
    "name": "ipython",
    "version": 3
   },
   "file_extension": ".py",
   "mimetype": "text/x-python",
   "name": "python",
   "nbconvert_exporter": "python",
   "pygments_lexer": "ipython3",
   "version": "3.11.7"
  }
 },
 "nbformat": 4,
 "nbformat_minor": 5
}
